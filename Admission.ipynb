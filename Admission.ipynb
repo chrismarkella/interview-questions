{
  "nbformat": 4,
  "nbformat_minor": 0,
  "metadata": {
    "colab": {
      "name": "Admission.ipynb",
      "provenance": [],
      "collapsed_sections": [],
      "include_colab_link": true
    },
    "kernelspec": {
      "name": "python3",
      "display_name": "Python 3"
    }
  },
  "cells": [
    {
      "cell_type": "markdown",
      "metadata": {
        "id": "view-in-github",
        "colab_type": "text"
      },
      "source": [
        "<a href=\"https://colab.research.google.com/github/chrismarkella/interview-questions/blob/master/Admission.ipynb\" target=\"_parent\"><img src=\"https://colab.research.google.com/assets/colab-badge.svg\" alt=\"Open In Colab\"/></a>"
      ]
    },
    {
      "cell_type": "code",
      "metadata": {
        "id": "xcQtJkz2JMEB",
        "colab_type": "code",
        "colab": {}
      },
      "source": [
        "# https://www.youtube.com/watch?v=ALX88JzeQnk"
      ],
      "execution_count": 0,
      "outputs": []
    },
    {
      "cell_type": "code",
      "metadata": {
        "id": "JVDz7I6wFjZA",
        "colab_type": "code",
        "colab": {}
      },
      "source": [
        "import pandas as pd\n",
        "import numpy as np\n",
        "import matplotlib as plt\n",
        "import os"
      ],
      "execution_count": 0,
      "outputs": []
    },
    {
      "cell_type": "code",
      "metadata": {
        "id": "ES_UfbhAFq2R",
        "colab_type": "code",
        "colab": {
          "resources": {
            "http://localhost:8080/nbextensions/google.colab/files.js": {
              "data": "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",
              "ok": true,
              "headers": [
                [
                  "content-type",
                  "application/javascript"
                ]
              ],
              "status": 200,
              "status_text": ""
            }
          },
          "base_uri": "https://localhost:8080/",
          "height": 107
        },
        "outputId": "8225cd94-6b2e-49d6-f762-27a362f0a362"
      },
      "source": [
        "from google.colab import files\n",
        "files.upload()"
      ],
      "execution_count": 3,
      "outputs": [
        {
          "output_type": "display_data",
          "data": {
            "text/html": [
              "\n",
              "     <input type=\"file\" id=\"files-09d61df3-e8b4-4793-9be0-e6569bbd3816\" name=\"files[]\" multiple disabled />\n",
              "     <output id=\"result-09d61df3-e8b4-4793-9be0-e6569bbd3816\">\n",
              "      Upload widget is only available when the cell has been executed in the\n",
              "      current browser session. Please rerun this cell to enable.\n",
              "      </output>\n",
              "      <script src=\"/nbextensions/google.colab/files.js\"></script> "
            ],
            "text/plain": [
              "<IPython.core.display.HTML object>"
            ]
          },
          "metadata": {
            "tags": []
          }
        },
        {
          "output_type": "stream",
          "text": [
            "Saving Admission.csv to Admission.csv\n"
          ],
          "name": "stdout"
        },
        {
          "output_type": "execute_result",
          "data": {
            "text/plain": [
              "{'Admission.csv': b'Serial No.,GRE Score,TOEFL Score,University Rating,SOP,LOR,CGPA,Research,Chance of Admit \\n1,337,118,4,4.5,4.5,9.65,1,0.92\\n2,324,107,4,4,4.5,8.87,1,0.76\\n3,316,104,3,3,3.5,8,1,0.72\\n4,322,110,3,3.5,2.5,8.67,1,0.8\\n5,314,103,2,2,3,8.21,0,0.65\\n6,330,115,5,4.5,3,9.34,1,0.9\\n7,321,109,3,3,4,8.2,1,0.75\\n8,308,101,2,3,4,7.9,0,0.68\\n9,302,102,1,2,1.5,8,0,0.5\\n10,323,108,3,3.5,3,8.6,0,0.45\\n11,325,106,3,3.5,4,8.4,1,0.52\\n12,327,111,4,4,4.5,9,1,0.84\\n13,328,112,4,4,4.5,9.1,1,0.78\\n14,307,109,3,4,3,8,1,0.62\\n15,311,104,3,3.5,2,8.2,1,0.61\\n16,314,105,3,3.5,2.5,8.3,0,0.54\\n17,317,107,3,4,3,8.7,0,0.66\\n18,319,106,3,4,3,8,1,0.65\\n19,318,110,3,4,3,8.8,0,0.63\\n20,303,102,3,3.5,3,8.5,0,0.62\\n21,312,107,3,3,2,7.9,1,0.64\\n22,325,114,4,3,2,8.4,0,0.7\\n23,328,116,5,5,5,9.5,1,0.94\\n24,334,119,5,5,4.5,9.7,1,0.95\\n25,336,119,5,4,3.5,9.8,1,0.97\\n26,340,120,5,4.5,4.5,9.6,1,0.94\\n27,322,109,5,4.5,3.5,8.8,0,0.76\\n28,298,98,2,1.5,2.5,7.5,1,0.44\\n29,295,93,1,2,2,7.2,0,0.46\\n30,310,99,2,1.5,2,7.3,0,0.54\\n31,300,97,2,3,3,8.1,1,0.65\\n32,327,103,3,4,4,8.3,1,0.74\\n33,338,118,4,3,4.5,9.4,1,0.91\\n34,340,114,5,4,4,9.6,1,0.9\\n35,331,112,5,4,5,9.8,1,0.94\\n36,320,110,5,5,5,9.2,1,0.88\\n37,299,106,2,4,4,8.4,0,0.64\\n38,300,105,1,1,2,7.8,0,0.58\\n39,304,105,1,3,1.5,7.5,0,0.52\\n40,307,108,2,4,3.5,7.7,0,0.48\\n41,308,110,3,3.5,3,8,1,0.46\\n42,316,105,2,2.5,2.5,8.2,1,0.49\\n43,313,107,2,2.5,2,8.5,1,0.53\\n44,332,117,4,4.5,4,9.1,0,0.87\\n45,326,113,5,4.5,4,9.4,1,0.91\\n46,322,110,5,5,4,9.1,1,0.88\\n47,329,114,5,4,5,9.3,1,0.86\\n48,339,119,5,4.5,4,9.7,0,0.89\\n49,321,110,3,3.5,5,8.85,1,0.82\\n50,327,111,4,3,4,8.4,1,0.78\\n51,313,98,3,2.5,4.5,8.3,1,0.76\\n52,312,100,2,1.5,3.5,7.9,1,0.56\\n53,334,116,4,4,3,8,1,0.78\\n54,324,112,4,4,2.5,8.1,1,0.72\\n55,322,110,3,3,3.5,8,0,0.7\\n56,320,103,3,3,3,7.7,0,0.64\\n57,316,102,3,2,3,7.4,0,0.64\\n58,298,99,2,4,2,7.6,0,0.46\\n59,300,99,1,3,2,6.8,1,0.36\\n60,311,104,2,2,2,8.3,0,0.42\\n61,309,100,2,3,3,8.1,0,0.48\\n62,307,101,3,4,3,8.2,0,0.47\\n63,304,105,2,3,3,8.2,1,0.54\\n64,315,107,2,4,3,8.5,1,0.56\\n65,325,111,3,3,3.5,8.7,0,0.52\\n66,325,112,4,3.5,3.5,8.92,0,0.55\\n67,327,114,3,3,3,9.02,0,0.61\\n68,316,107,2,3.5,3.5,8.64,1,0.57\\n69,318,109,3,3.5,4,9.22,1,0.68\\n70,328,115,4,4.5,4,9.16,1,0.78\\n71,332,118,5,5,5,9.64,1,0.94\\n72,336,112,5,5,5,9.76,1,0.96\\n73,321,111,5,5,5,9.45,1,0.93\\n74,314,108,4,4.5,4,9.04,1,0.84\\n75,314,106,3,3,5,8.9,0,0.74\\n76,329,114,2,2,4,8.56,1,0.72\\n77,327,112,3,3,3,8.72,1,0.74\\n78,301,99,2,3,2,8.22,0,0.64\\n79,296,95,2,3,2,7.54,1,0.44\\n80,294,93,1,1.5,2,7.36,0,0.46\\n81,312,105,3,2,3,8.02,1,0.5\\n82,340,120,4,5,5,9.5,1,0.96\\n83,320,110,5,5,4.5,9.22,1,0.92\\n84,322,115,5,4,4.5,9.36,1,0.92\\n85,340,115,5,4.5,4.5,9.45,1,0.94\\n86,319,103,4,4.5,3.5,8.66,0,0.76\\n87,315,106,3,4.5,3.5,8.42,0,0.72\\n88,317,107,2,3.5,3,8.28,0,0.66\\n89,314,108,3,4.5,3.5,8.14,0,0.64\\n90,316,109,4,4.5,3.5,8.76,1,0.74\\n91,318,106,2,4,4,7.92,1,0.64\\n92,299,97,3,5,3.5,7.66,0,0.38\\n93,298,98,2,4,3,8.03,0,0.34\\n94,301,97,2,3,3,7.88,1,0.44\\n95,303,99,3,2,2.5,7.66,0,0.36\\n96,304,100,4,1.5,2.5,7.84,0,0.42\\n97,306,100,2,3,3,8,0,0.48\\n98,331,120,3,4,4,8.96,1,0.86\\n99,332,119,4,5,4.5,9.24,1,0.9\\n100,323,113,3,4,4,8.88,1,0.79\\n101,322,107,3,3.5,3.5,8.46,1,0.71\\n102,312,105,2,2.5,3,8.12,0,0.64\\n103,314,106,2,4,3.5,8.25,0,0.62\\n104,317,104,2,4.5,4,8.47,0,0.57\\n105,326,112,3,3.5,3,9.05,1,0.74\\n106,316,110,3,4,4.5,8.78,1,0.69\\n107,329,111,4,4.5,4.5,9.18,1,0.87\\n108,338,117,4,3.5,4.5,9.46,1,0.91\\n109,331,116,5,5,5,9.38,1,0.93\\n110,304,103,5,5,4,8.64,0,0.68\\n111,305,108,5,3,3,8.48,0,0.61\\n112,321,109,4,4,4,8.68,1,0.69\\n113,301,107,3,3.5,3.5,8.34,1,0.62\\n114,320,110,2,4,3.5,8.56,0,0.72\\n115,311,105,3,3.5,3,8.45,1,0.59\\n116,310,106,4,4.5,4.5,9.04,1,0.66\\n117,299,102,3,4,3.5,8.62,0,0.56\\n118,290,104,4,2,2.5,7.46,0,0.45\\n119,296,99,2,3,3.5,7.28,0,0.47\\n120,327,104,5,3,3.5,8.84,1,0.71\\n121,335,117,5,5,5,9.56,1,0.94\\n122,334,119,5,4.5,4.5,9.48,1,0.94\\n123,310,106,4,1.5,2.5,8.36,0,0.57\\n124,308,108,3,3.5,3.5,8.22,0,0.61\\n125,301,106,4,2.5,3,8.47,0,0.57\\n126,300,100,3,2,3,8.66,1,0.64\\n127,323,113,3,4,3,9.32,1,0.85\\n128,319,112,3,2.5,2,8.71,1,0.78\\n129,326,112,3,3.5,3,9.1,1,0.84\\n130,333,118,5,5,5,9.35,1,0.92\\n131,339,114,5,4,4.5,9.76,1,0.96\\n132,303,105,5,5,4.5,8.65,0,0.77\\n133,309,105,5,3.5,3.5,8.56,0,0.71\\n134,323,112,5,4,4.5,8.78,0,0.79\\n135,333,113,5,4,4,9.28,1,0.89\\n136,314,109,4,3.5,4,8.77,1,0.82\\n137,312,103,3,5,4,8.45,0,0.76\\n138,316,100,2,1.5,3,8.16,1,0.71\\n139,326,116,2,4.5,3,9.08,1,0.8\\n140,318,109,1,3.5,3.5,9.12,0,0.78\\n141,329,110,2,4,3,9.15,1,0.84\\n142,332,118,2,4.5,3.5,9.36,1,0.9\\n143,331,115,5,4,3.5,9.44,1,0.92\\n144,340,120,4,4.5,4,9.92,1,0.97\\n145,325,112,2,3,3.5,8.96,1,0.8\\n146,320,113,2,2,2.5,8.64,1,0.81\\n147,315,105,3,2,2.5,8.48,0,0.75\\n148,326,114,3,3,3,9.11,1,0.83\\n149,339,116,4,4,3.5,9.8,1,0.96\\n150,311,106,2,3.5,3,8.26,1,0.79\\n151,334,114,4,4,4,9.43,1,0.93\\n152,332,116,5,5,5,9.28,1,0.94\\n153,321,112,5,5,5,9.06,1,0.86\\n154,324,105,3,3,4,8.75,0,0.79\\n155,326,108,3,3,3.5,8.89,0,0.8\\n156,312,109,3,3,3,8.69,0,0.77\\n157,315,105,3,2,2.5,8.34,0,0.7\\n158,309,104,2,2,2.5,8.26,0,0.65\\n159,306,106,2,2,2.5,8.14,0,0.61\\n160,297,100,1,1.5,2,7.9,0,0.52\\n161,315,103,1,1.5,2,7.86,0,0.57\\n162,298,99,1,1.5,3,7.46,0,0.53\\n163,318,109,3,3,3,8.5,0,0.67\\n164,317,105,3,3.5,3,8.56,0,0.68\\n165,329,111,4,4.5,4,9.01,1,0.81\\n166,322,110,5,4.5,4,8.97,0,0.78\\n167,302,102,3,3.5,5,8.33,0,0.65\\n168,313,102,3,2,3,8.27,0,0.64\\n169,293,97,2,2,4,7.8,1,0.64\\n170,311,99,2,2.5,3,7.98,0,0.65\\n171,312,101,2,2.5,3.5,8.04,1,0.68\\n172,334,117,5,4,4.5,9.07,1,0.89\\n173,322,110,4,4,5,9.13,1,0.86\\n174,323,113,4,4,4.5,9.23,1,0.89\\n175,321,111,4,4,4,8.97,1,0.87\\n176,320,111,4,4.5,3.5,8.87,1,0.85\\n177,329,119,4,4.5,4.5,9.16,1,0.9\\n178,319,110,3,3.5,3.5,9.04,0,0.82\\n179,309,108,3,2.5,3,8.12,0,0.72\\n180,307,102,3,3,3,8.27,0,0.73\\n181,300,104,3,3.5,3,8.16,0,0.71\\n182,305,107,2,2.5,2.5,8.42,0,0.71\\n183,299,100,2,3,3.5,7.88,0,0.68\\n184,314,110,3,4,4,8.8,0,0.75\\n185,316,106,2,2.5,4,8.32,0,0.72\\n186,327,113,4,4.5,4.5,9.11,1,0.89\\n187,317,107,3,3.5,3,8.68,1,0.84\\n188,335,118,5,4.5,3.5,9.44,1,0.93\\n189,331,115,5,4.5,3.5,9.36,1,0.93\\n190,324,112,5,5,5,9.08,1,0.88\\n191,324,111,5,4.5,4,9.16,1,0.9\\n192,323,110,5,4,5,8.98,1,0.87\\n193,322,114,5,4.5,4,8.94,1,0.86\\n194,336,118,5,4.5,5,9.53,1,0.94\\n195,316,109,3,3.5,3,8.76,0,0.77\\n196,307,107,2,3,3.5,8.52,1,0.78\\n197,306,105,2,3,2.5,8.26,0,0.73\\n198,310,106,2,3.5,2.5,8.33,0,0.73\\n199,311,104,3,4.5,4.5,8.43,0,0.7\\n200,313,107,3,4,4.5,8.69,0,0.72\\n201,317,103,3,2.5,3,8.54,1,0.73\\n202,315,110,2,3.5,3,8.46,1,0.72\\n203,340,120,5,4.5,4.5,9.91,1,0.97\\n204,334,120,5,4,5,9.87,1,0.97\\n205,298,105,3,3.5,4,8.54,0,0.69\\n206,295,99,2,2.5,3,7.65,0,0.57\\n207,315,99,2,3.5,3,7.89,0,0.63\\n208,310,102,3,3.5,4,8.02,1,0.66\\n209,305,106,2,3,3,8.16,0,0.64\\n210,301,104,3,3.5,4,8.12,1,0.68\\n211,325,108,4,4.5,4,9.06,1,0.79\\n212,328,110,4,5,4,9.14,1,0.82\\n213,338,120,4,5,5,9.66,1,0.95\\n214,333,119,5,5,4.5,9.78,1,0.96\\n215,331,117,4,4.5,5,9.42,1,0.94\\n216,330,116,5,5,4.5,9.36,1,0.93\\n217,322,112,4,4.5,4.5,9.26,1,0.91\\n218,321,109,4,4,4,9.13,1,0.85\\n219,324,110,4,3,3.5,8.97,1,0.84\\n220,312,104,3,3.5,3.5,8.42,0,0.74\\n221,313,103,3,4,4,8.75,0,0.76\\n222,316,110,3,3.5,4,8.56,0,0.75\\n223,324,113,4,4.5,4,8.79,0,0.76\\n224,308,109,2,3,4,8.45,0,0.71\\n225,305,105,2,3,2,8.23,0,0.67\\n226,296,99,2,2.5,2.5,8.03,0,0.61\\n227,306,110,2,3.5,4,8.45,0,0.63\\n228,312,110,2,3.5,3,8.53,0,0.64\\n229,318,112,3,4,3.5,8.67,0,0.71\\n230,324,111,4,3,3,9.01,1,0.82\\n231,313,104,3,4,4.5,8.65,0,0.73\\n232,319,106,3,3.5,2.5,8.33,1,0.74\\n233,312,107,2,2.5,3.5,8.27,0,0.69\\n234,304,100,2,2.5,3.5,8.07,0,0.64\\n235,330,113,5,5,4,9.31,1,0.91\\n236,326,111,5,4.5,4,9.23,1,0.88\\n237,325,112,4,4,4.5,9.17,1,0.85\\n238,329,114,5,4.5,5,9.19,1,0.86\\n239,310,104,3,2,3.5,8.37,0,0.7\\n240,299,100,1,1.5,2,7.89,0,0.59\\n241,296,101,1,2.5,3,7.68,0,0.6\\n242,317,103,2,2.5,2,8.15,0,0.65\\n243,324,115,3,3.5,3,8.76,1,0.7\\n244,325,114,3,3.5,3,9.04,1,0.76\\n245,314,107,2,2.5,4,8.56,0,0.63\\n246,328,110,4,4,2.5,9.02,1,0.81\\n247,316,105,3,3,3.5,8.73,0,0.72\\n248,311,104,2,2.5,3.5,8.48,0,0.71\\n249,324,110,3,3.5,4,8.87,1,0.8\\n250,321,111,3,3.5,4,8.83,1,0.77\\n251,320,104,3,3,2.5,8.57,1,0.74\\n252,316,99,2,2.5,3,9,0,0.7\\n253,318,100,2,2.5,3.5,8.54,1,0.71\\n254,335,115,4,4.5,4.5,9.68,1,0.93\\n255,321,114,4,4,5,9.12,0,0.85\\n256,307,110,4,4,4.5,8.37,0,0.79\\n257,309,99,3,4,4,8.56,0,0.76\\n258,324,100,3,4,5,8.64,1,0.78\\n259,326,102,4,5,5,8.76,1,0.77\\n260,331,119,4,5,4.5,9.34,1,0.9\\n261,327,108,5,5,3.5,9.13,1,0.87\\n262,312,104,3,3.5,4,8.09,0,0.71\\n263,308,103,2,2.5,4,8.36,1,0.7\\n264,324,111,3,2.5,1.5,8.79,1,0.7\\n265,325,110,2,3,2.5,8.76,1,0.75\\n266,313,102,3,2.5,2.5,8.68,0,0.71\\n267,312,105,2,2,2.5,8.45,0,0.72\\n268,314,107,3,3,3.5,8.17,1,0.73\\n269,327,113,4,4.5,5,9.14,0,0.83\\n270,308,108,4,4.5,5,8.34,0,0.77\\n271,306,105,2,2.5,3,8.22,1,0.72\\n272,299,96,2,1.5,2,7.86,0,0.54\\n273,294,95,1,1.5,1.5,7.64,0,0.49\\n274,312,99,1,1,1.5,8.01,1,0.52\\n275,315,100,1,2,2.5,7.95,0,0.58\\n276,322,110,3,3.5,3,8.96,1,0.78\\n277,329,113,5,5,4.5,9.45,1,0.89\\n278,320,101,2,2.5,3,8.62,0,0.7\\n279,308,103,2,3,3.5,8.49,0,0.66\\n280,304,102,2,3,4,8.73,0,0.67\\n281,311,102,3,4.5,4,8.64,1,0.68\\n282,317,110,3,4,4.5,9.11,1,0.8\\n283,312,106,3,4,3.5,8.79,1,0.81\\n284,321,111,3,2.5,3,8.9,1,0.8\\n285,340,112,4,5,4.5,9.66,1,0.94\\n286,331,116,5,4,4,9.26,1,0.93\\n287,336,118,5,4.5,4,9.19,1,0.92\\n288,324,114,5,5,4.5,9.08,1,0.89\\n289,314,104,4,5,5,9.02,0,0.82\\n290,313,109,3,4,3.5,9,0,0.79\\n291,307,105,2,2.5,3,7.65,0,0.58\\n292,300,102,2,1.5,2,7.87,0,0.56\\n293,302,99,2,1,2,7.97,0,0.56\\n294,312,98,1,3.5,3,8.18,1,0.64\\n295,316,101,2,2.5,2,8.32,1,0.61\\n296,317,100,2,3,2.5,8.57,0,0.68\\n297,310,107,3,3.5,3.5,8.67,0,0.76\\n298,320,120,3,4,4.5,9.11,0,0.86\\n299,330,114,3,4.5,4.5,9.24,1,0.9\\n300,305,112,3,3,3.5,8.65,0,0.71\\n301,309,106,2,2.5,2.5,8,0,0.62\\n302,319,108,2,2.5,3,8.76,0,0.66\\n303,322,105,2,3,3,8.45,1,0.65\\n304,323,107,3,3.5,3.5,8.55,1,0.73\\n305,313,106,2,2.5,2,8.43,0,0.62\\n306,321,109,3,3.5,3.5,8.8,1,0.74\\n307,323,110,3,4,3.5,9.1,1,0.79\\n308,325,112,4,4,4,9,1,0.8\\n309,312,108,3,3.5,3,8.53,0,0.69\\n310,308,110,4,3.5,3,8.6,0,0.7\\n311,320,104,3,3,3.5,8.74,1,0.76\\n312,328,108,4,4.5,4,9.18,1,0.84\\n313,311,107,4,4.5,4.5,9,1,0.78\\n314,301,100,3,3.5,3,8.04,0,0.67\\n315,305,105,2,3,4,8.13,0,0.66\\n316,308,104,2,2.5,3,8.07,0,0.65\\n317,298,101,2,1.5,2,7.86,0,0.54\\n318,300,99,1,1,2.5,8.01,0,0.58\\n319,324,111,3,2.5,2,8.8,1,0.79\\n320,327,113,4,3.5,3,8.69,1,0.8\\n321,317,106,3,4,3.5,8.5,1,0.75\\n322,323,104,3,4,4,8.44,1,0.73\\n323,314,107,2,2.5,4,8.27,0,0.72\\n324,305,102,2,2,2.5,8.18,0,0.62\\n325,315,104,3,3,2.5,8.33,0,0.67\\n326,326,116,3,3.5,4,9.14,1,0.81\\n327,299,100,3,2,2,8.02,0,0.63\\n328,295,101,2,2.5,2,7.86,0,0.69\\n329,324,112,4,4,3.5,8.77,1,0.8\\n330,297,96,2,2.5,1.5,7.89,0,0.43\\n331,327,113,3,3.5,3,8.66,1,0.8\\n332,311,105,2,3,2,8.12,1,0.73\\n333,308,106,3,3.5,2.5,8.21,1,0.75\\n334,319,108,3,3,3.5,8.54,1,0.71\\n335,312,107,4,4.5,4,8.65,1,0.73\\n336,325,111,4,4,4.5,9.11,1,0.83\\n337,319,110,3,3,2.5,8.79,0,0.72\\n338,332,118,5,5,5,9.47,1,0.94\\n339,323,108,5,4,4,8.74,1,0.81\\n340,324,107,5,3.5,4,8.66,1,0.81\\n341,312,107,3,3,3,8.46,1,0.75\\n342,326,110,3,3.5,3.5,8.76,1,0.79\\n343,308,106,3,3,3,8.24,0,0.58\\n344,305,103,2,2.5,3.5,8.13,0,0.59\\n345,295,96,2,1.5,2,7.34,0,0.47\\n346,316,98,1,1.5,2,7.43,0,0.49\\n347,304,97,2,1.5,2,7.64,0,0.47\\n348,299,94,1,1,1,7.34,0,0.42\\n349,302,99,1,2,2,7.25,0,0.57\\n350,313,101,3,2.5,3,8.04,0,0.62\\n351,318,107,3,3,3.5,8.27,1,0.74\\n352,325,110,4,3.5,4,8.67,1,0.73\\n353,303,100,2,3,3.5,8.06,1,0.64\\n354,300,102,3,3.5,2.5,8.17,0,0.63\\n355,297,98,2,2.5,3,7.67,0,0.59\\n356,317,106,2,2,3.5,8.12,0,0.73\\n357,327,109,3,3.5,4,8.77,1,0.79\\n358,301,104,2,3.5,3.5,7.89,1,0.68\\n359,314,105,2,2.5,2,7.64,0,0.7\\n360,321,107,2,2,1.5,8.44,0,0.81\\n361,322,110,3,4,5,8.64,1,0.85\\n362,334,116,4,4,3.5,9.54,1,0.93\\n363,338,115,5,4.5,5,9.23,1,0.91\\n364,306,103,2,2.5,3,8.36,0,0.69\\n365,313,102,3,3.5,4,8.9,1,0.77\\n366,330,114,4,4.5,3,9.17,1,0.86\\n367,320,104,3,3.5,4.5,8.34,1,0.74\\n368,311,98,1,1,2.5,7.46,0,0.57\\n369,298,92,1,2,2,7.88,0,0.51\\n370,301,98,1,2,3,8.03,1,0.67\\n371,310,103,2,2.5,2.5,8.24,0,0.72\\n372,324,110,3,3.5,3,9.22,1,0.89\\n373,336,119,4,4.5,4,9.62,1,0.95\\n374,321,109,3,3,3,8.54,1,0.79\\n375,315,105,2,2,2.5,7.65,0,0.39\\n376,304,101,2,2,2.5,7.66,0,0.38\\n377,297,96,2,2.5,2,7.43,0,0.34\\n378,290,100,1,1.5,2,7.56,0,0.47\\n379,303,98,1,2,2.5,7.65,0,0.56\\n380,311,99,1,2.5,3,8.43,1,0.71\\n381,322,104,3,3.5,4,8.84,1,0.78\\n382,319,105,3,3,3.5,8.67,1,0.73\\n383,324,110,4,4.5,4,9.15,1,0.82\\n384,300,100,3,3,3.5,8.26,0,0.62\\n385,340,113,4,5,5,9.74,1,0.96\\n386,335,117,5,5,5,9.82,1,0.96\\n387,302,101,2,2.5,3.5,7.96,0,0.46\\n388,307,105,2,2,3.5,8.1,0,0.53\\n389,296,97,2,1.5,2,7.8,0,0.49\\n390,320,108,3,3.5,4,8.44,1,0.76\\n391,314,102,2,2,2.5,8.24,0,0.64\\n392,318,106,3,2,3,8.65,0,0.71\\n393,326,112,4,4,3.5,9.12,1,0.84\\n394,317,104,2,3,3,8.76,0,0.77\\n395,329,111,4,4.5,4,9.23,1,0.89\\n396,324,110,3,3.5,3.5,9.04,1,0.82\\n397,325,107,3,3,3.5,9.11,1,0.84\\n398,330,116,4,5,4.5,9.45,1,0.91\\n399,312,103,3,3.5,4,8.78,0,0.67\\n400,333,117,4,5,4,9.66,1,0.95\\n401,304,100,2,3.5,3,8.22,0,0.63\\n402,315,105,2,3,3,8.34,0,0.66\\n403,324,109,3,3.5,3,8.94,1,0.78\\n404,330,116,4,4,3.5,9.23,1,0.91\\n405,311,101,3,2,2.5,7.64,1,0.62\\n406,302,99,3,2.5,3,7.45,0,0.52\\n407,322,103,4,3,2.5,8.02,1,0.61\\n408,298,100,3,2.5,4,7.95,1,0.58\\n409,297,101,3,2,4,7.67,1,0.57\\n410,300,98,1,2,2.5,8.02,0,0.61\\n411,301,96,1,3,4,7.56,0,0.54\\n412,313,94,2,2.5,1.5,8.13,0,0.56\\n413,314,102,4,2.5,2,7.88,1,0.59\\n414,317,101,3,3,2,7.94,1,0.49\\n415,321,110,4,3.5,4,8.35,1,0.72\\n416,327,106,4,4,4.5,8.75,1,0.76\\n417,315,104,3,4,2.5,8.1,0,0.65\\n418,316,103,3,3.5,2,7.68,0,0.52\\n419,309,111,2,2.5,4,8.03,0,0.6\\n420,308,102,2,2,3.5,7.98,1,0.58\\n421,299,100,3,2,3,7.42,0,0.42\\n422,321,112,3,3,4.5,8.95,1,0.77\\n423,322,112,4,3.5,2.5,9.02,1,0.73\\n424,334,119,5,4.5,5,9.54,1,0.94\\n425,325,114,5,4,5,9.46,1,0.91\\n426,323,111,5,4,5,9.86,1,0.92\\n427,312,106,3,3,5,8.57,0,0.71\\n428,310,101,3,3.5,5,8.65,1,0.71\\n429,316,103,2,2,4.5,8.74,0,0.69\\n430,340,115,5,5,4.5,9.06,1,0.95\\n431,311,104,3,4,3.5,8.13,1,0.74\\n432,320,112,2,3.5,3.5,8.78,1,0.73\\n433,324,112,4,4.5,4,9.22,1,0.86\\n434,316,111,4,4,5,8.54,0,0.71\\n435,306,103,3,3.5,3,8.21,0,0.64\\n436,309,105,2,2.5,4,7.68,0,0.55\\n437,310,110,1,1.5,4,7.23,1,0.58\\n438,317,106,1,1.5,3.5,7.65,1,0.61\\n439,318,110,1,2.5,3.5,8.54,1,0.67\\n440,312,105,2,1.5,3,8.46,0,0.66\\n441,305,104,2,2.5,1.5,7.79,0,0.53\\n442,332,112,1,1.5,3,8.66,1,0.79\\n443,331,116,4,4.5,4.5,9.44,1,0.92\\n444,321,114,5,4.5,4.5,9.16,1,0.87\\n445,324,113,5,4,5,9.25,1,0.92\\n446,328,116,5,4.5,5,9.08,1,0.91\\n447,327,118,4,5,5,9.67,1,0.93\\n448,320,108,3,3.5,5,8.97,1,0.84\\n449,312,109,2,2.5,4,9.02,0,0.8\\n450,315,101,3,3.5,4.5,9.13,0,0.79\\n451,320,112,4,3,4.5,8.86,1,0.82\\n452,324,113,4,4.5,4.5,9.25,1,0.89\\n453,328,116,4,5,3.5,9.6,1,0.93\\n454,319,103,3,2.5,4,8.76,1,0.73\\n455,310,105,2,3,3.5,8.01,0,0.71\\n456,305,102,2,1.5,2.5,7.64,0,0.59\\n457,299,100,2,2,2,7.88,0,0.51\\n458,295,99,1,2,1.5,7.57,0,0.37\\n459,312,100,1,3,3,8.53,1,0.69\\n460,329,113,4,4,3.5,9.36,1,0.89\\n461,319,105,4,4,4.5,8.66,1,0.77\\n462,301,102,3,2.5,2,8.13,1,0.68\\n463,307,105,4,3,3,7.94,0,0.62\\n464,304,107,3,3.5,3,7.86,0,0.57\\n465,298,97,2,2,3,7.21,0,0.45\\n466,305,96,4,3,4.5,8.26,0,0.54\\n467,314,99,4,3.5,4.5,8.73,1,0.71\\n468,318,101,5,3.5,5,8.78,1,0.78\\n469,323,110,4,4,5,8.88,1,0.81\\n470,326,114,4,4,3.5,9.16,1,0.86\\n471,320,110,5,4,4,9.27,1,0.87\\n472,311,103,3,2,4,8.09,0,0.64\\n473,327,116,4,4,4.5,9.48,1,0.9\\n474,316,102,2,4,3.5,8.15,0,0.67\\n475,308,105,4,3,2.5,7.95,1,0.67\\n476,300,101,3,3.5,2.5,7.88,0,0.59\\n477,304,104,3,2.5,2,8.12,0,0.62\\n478,309,105,4,3.5,2,8.18,0,0.65\\n479,318,103,3,4,4.5,8.49,1,0.71\\n480,325,110,4,4.5,4,8.96,1,0.79\\n481,321,102,3,3.5,4,9.01,1,0.8\\n482,323,107,4,3,2.5,8.48,1,0.78\\n483,328,113,4,4,2.5,8.77,1,0.83\\n484,304,103,5,5,3,7.92,0,0.71\\n485,317,106,3,3.5,3,7.89,1,0.73\\n486,311,101,2,2.5,3.5,8.34,1,0.7\\n487,319,102,3,2.5,2.5,8.37,0,0.68\\n488,327,115,4,3.5,4,9.14,0,0.79\\n489,322,112,3,3,4,8.62,1,0.76\\n490,302,110,3,4,4.5,8.5,0,0.65\\n491,307,105,2,2.5,4.5,8.12,1,0.67\\n492,297,99,4,3,3.5,7.81,0,0.54\\n493,298,101,4,2.5,4.5,7.69,1,0.53\\n494,300,95,2,3,1.5,8.22,1,0.62\\n495,301,99,3,2.5,2,8.45,1,0.68\\n496,332,108,5,4.5,4,9.02,1,0.87\\n497,337,117,5,5,5,9.87,1,0.96\\n498,330,120,5,4.5,5,9.56,1,0.93\\n499,312,103,4,4,5,8.43,0,0.73\\n500,327,113,4,4.5,4.5,9.04,0,0.84'}"
            ]
          },
          "metadata": {
            "tags": []
          },
          "execution_count": 3
        }
      ]
    },
    {
      "cell_type": "code",
      "metadata": {
        "id": "baJK7X0rF2Pw",
        "colab_type": "code",
        "colab": {
          "base_uri": "https://localhost:8080/",
          "height": 67
        },
        "outputId": "ae5c879b-88ed-491c-cf71-7e5afbd2a198"
      },
      "source": [
        "!ls -lh"
      ],
      "execution_count": 4,
      "outputs": [
        {
          "output_type": "stream",
          "text": [
            "total 20K\n",
            "-rw-r--r-- 1 root root  16K Nov  5 15:04 Admission.csv\n",
            "drwxr-xr-x 1 root root 4.0K Oct 25 16:58 sample_data\n"
          ],
          "name": "stdout"
        }
      ]
    },
    {
      "cell_type": "code",
      "metadata": {
        "id": "QuojOBzYGEu6",
        "colab_type": "code",
        "colab": {
          "base_uri": "https://localhost:8080/",
          "height": 34
        },
        "outputId": "a388cb83-1553-4a6b-f94d-7f97525a0633"
      },
      "source": [
        "os.listdir()"
      ],
      "execution_count": 6,
      "outputs": [
        {
          "output_type": "execute_result",
          "data": {
            "text/plain": [
              "['.config', 'Admission.csv', 'sample_data']"
            ]
          },
          "metadata": {
            "tags": []
          },
          "execution_count": 6
        }
      ]
    },
    {
      "cell_type": "code",
      "metadata": {
        "id": "8cglC19GGOBp",
        "colab_type": "code",
        "colab": {
          "base_uri": "https://localhost:8080/",
          "height": 34
        },
        "outputId": "27a38f23-2c54-42bb-8676-41cc5736449d"
      },
      "source": [
        "file_name = os.listdir()[1]\n",
        "file_name"
      ],
      "execution_count": 7,
      "outputs": [
        {
          "output_type": "execute_result",
          "data": {
            "text/plain": [
              "'Admission.csv'"
            ]
          },
          "metadata": {
            "tags": []
          },
          "execution_count": 7
        }
      ]
    },
    {
      "cell_type": "code",
      "metadata": {
        "id": "gr7Ytb8ZGSLW",
        "colab_type": "code",
        "colab": {
          "base_uri": "https://localhost:8080/",
          "height": 195
        },
        "outputId": "5fbe301b-c539-42b6-b518-db20dedb269e"
      },
      "source": [
        "df = pd.read_csv(file_name)\n",
        "df.head()"
      ],
      "execution_count": 8,
      "outputs": [
        {
          "output_type": "execute_result",
          "data": {
            "text/html": [
              "<div>\n",
              "<style scoped>\n",
              "    .dataframe tbody tr th:only-of-type {\n",
              "        vertical-align: middle;\n",
              "    }\n",
              "\n",
              "    .dataframe tbody tr th {\n",
              "        vertical-align: top;\n",
              "    }\n",
              "\n",
              "    .dataframe thead th {\n",
              "        text-align: right;\n",
              "    }\n",
              "</style>\n",
              "<table border=\"1\" class=\"dataframe\">\n",
              "  <thead>\n",
              "    <tr style=\"text-align: right;\">\n",
              "      <th></th>\n",
              "      <th>Serial No.</th>\n",
              "      <th>GRE Score</th>\n",
              "      <th>TOEFL Score</th>\n",
              "      <th>University Rating</th>\n",
              "      <th>SOP</th>\n",
              "      <th>LOR</th>\n",
              "      <th>CGPA</th>\n",
              "      <th>Research</th>\n",
              "      <th>Chance of Admit</th>\n",
              "    </tr>\n",
              "  </thead>\n",
              "  <tbody>\n",
              "    <tr>\n",
              "      <th>0</th>\n",
              "      <td>1</td>\n",
              "      <td>337</td>\n",
              "      <td>118</td>\n",
              "      <td>4</td>\n",
              "      <td>4.5</td>\n",
              "      <td>4.5</td>\n",
              "      <td>9.65</td>\n",
              "      <td>1</td>\n",
              "      <td>0.92</td>\n",
              "    </tr>\n",
              "    <tr>\n",
              "      <th>1</th>\n",
              "      <td>2</td>\n",
              "      <td>324</td>\n",
              "      <td>107</td>\n",
              "      <td>4</td>\n",
              "      <td>4.0</td>\n",
              "      <td>4.5</td>\n",
              "      <td>8.87</td>\n",
              "      <td>1</td>\n",
              "      <td>0.76</td>\n",
              "    </tr>\n",
              "    <tr>\n",
              "      <th>2</th>\n",
              "      <td>3</td>\n",
              "      <td>316</td>\n",
              "      <td>104</td>\n",
              "      <td>3</td>\n",
              "      <td>3.0</td>\n",
              "      <td>3.5</td>\n",
              "      <td>8.00</td>\n",
              "      <td>1</td>\n",
              "      <td>0.72</td>\n",
              "    </tr>\n",
              "    <tr>\n",
              "      <th>3</th>\n",
              "      <td>4</td>\n",
              "      <td>322</td>\n",
              "      <td>110</td>\n",
              "      <td>3</td>\n",
              "      <td>3.5</td>\n",
              "      <td>2.5</td>\n",
              "      <td>8.67</td>\n",
              "      <td>1</td>\n",
              "      <td>0.80</td>\n",
              "    </tr>\n",
              "    <tr>\n",
              "      <th>4</th>\n",
              "      <td>5</td>\n",
              "      <td>314</td>\n",
              "      <td>103</td>\n",
              "      <td>2</td>\n",
              "      <td>2.0</td>\n",
              "      <td>3.0</td>\n",
              "      <td>8.21</td>\n",
              "      <td>0</td>\n",
              "      <td>0.65</td>\n",
              "    </tr>\n",
              "  </tbody>\n",
              "</table>\n",
              "</div>"
            ],
            "text/plain": [
              "   Serial No.  GRE Score  TOEFL Score  ...  CGPA  Research  Chance of Admit \n",
              "0           1        337          118  ...  9.65         1              0.92\n",
              "1           2        324          107  ...  8.87         1              0.76\n",
              "2           3        316          104  ...  8.00         1              0.72\n",
              "3           4        322          110  ...  8.67         1              0.80\n",
              "4           5        314          103  ...  8.21         0              0.65\n",
              "\n",
              "[5 rows x 9 columns]"
            ]
          },
          "metadata": {
            "tags": []
          },
          "execution_count": 8
        }
      ]
    },
    {
      "cell_type": "code",
      "metadata": {
        "id": "G9UJwKASGXPZ",
        "colab_type": "code",
        "colab": {
          "base_uri": "https://localhost:8080/",
          "height": 195
        },
        "outputId": "b6aebf26-97c6-4905-e76e-197ec2a8282b"
      },
      "source": [
        "df.drop(columns=['Serial No.'], inplace=True)\n",
        "df.head()"
      ],
      "execution_count": 9,
      "outputs": [
        {
          "output_type": "execute_result",
          "data": {
            "text/html": [
              "<div>\n",
              "<style scoped>\n",
              "    .dataframe tbody tr th:only-of-type {\n",
              "        vertical-align: middle;\n",
              "    }\n",
              "\n",
              "    .dataframe tbody tr th {\n",
              "        vertical-align: top;\n",
              "    }\n",
              "\n",
              "    .dataframe thead th {\n",
              "        text-align: right;\n",
              "    }\n",
              "</style>\n",
              "<table border=\"1\" class=\"dataframe\">\n",
              "  <thead>\n",
              "    <tr style=\"text-align: right;\">\n",
              "      <th></th>\n",
              "      <th>GRE Score</th>\n",
              "      <th>TOEFL Score</th>\n",
              "      <th>University Rating</th>\n",
              "      <th>SOP</th>\n",
              "      <th>LOR</th>\n",
              "      <th>CGPA</th>\n",
              "      <th>Research</th>\n",
              "      <th>Chance of Admit</th>\n",
              "    </tr>\n",
              "  </thead>\n",
              "  <tbody>\n",
              "    <tr>\n",
              "      <th>0</th>\n",
              "      <td>337</td>\n",
              "      <td>118</td>\n",
              "      <td>4</td>\n",
              "      <td>4.5</td>\n",
              "      <td>4.5</td>\n",
              "      <td>9.65</td>\n",
              "      <td>1</td>\n",
              "      <td>0.92</td>\n",
              "    </tr>\n",
              "    <tr>\n",
              "      <th>1</th>\n",
              "      <td>324</td>\n",
              "      <td>107</td>\n",
              "      <td>4</td>\n",
              "      <td>4.0</td>\n",
              "      <td>4.5</td>\n",
              "      <td>8.87</td>\n",
              "      <td>1</td>\n",
              "      <td>0.76</td>\n",
              "    </tr>\n",
              "    <tr>\n",
              "      <th>2</th>\n",
              "      <td>316</td>\n",
              "      <td>104</td>\n",
              "      <td>3</td>\n",
              "      <td>3.0</td>\n",
              "      <td>3.5</td>\n",
              "      <td>8.00</td>\n",
              "      <td>1</td>\n",
              "      <td>0.72</td>\n",
              "    </tr>\n",
              "    <tr>\n",
              "      <th>3</th>\n",
              "      <td>322</td>\n",
              "      <td>110</td>\n",
              "      <td>3</td>\n",
              "      <td>3.5</td>\n",
              "      <td>2.5</td>\n",
              "      <td>8.67</td>\n",
              "      <td>1</td>\n",
              "      <td>0.80</td>\n",
              "    </tr>\n",
              "    <tr>\n",
              "      <th>4</th>\n",
              "      <td>314</td>\n",
              "      <td>103</td>\n",
              "      <td>2</td>\n",
              "      <td>2.0</td>\n",
              "      <td>3.0</td>\n",
              "      <td>8.21</td>\n",
              "      <td>0</td>\n",
              "      <td>0.65</td>\n",
              "    </tr>\n",
              "  </tbody>\n",
              "</table>\n",
              "</div>"
            ],
            "text/plain": [
              "   GRE Score  TOEFL Score  University Rating  ...  CGPA  Research  Chance of Admit \n",
              "0        337          118                  4  ...  9.65         1              0.92\n",
              "1        324          107                  4  ...  8.87         1              0.76\n",
              "2        316          104                  3  ...  8.00         1              0.72\n",
              "3        322          110                  3  ...  8.67         1              0.80\n",
              "4        314          103                  2  ...  8.21         0              0.65\n",
              "\n",
              "[5 rows x 8 columns]"
            ]
          },
          "metadata": {
            "tags": []
          },
          "execution_count": 9
        }
      ]
    },
    {
      "cell_type": "code",
      "metadata": {
        "id": "6r8lXg4qGjuT",
        "colab_type": "code",
        "colab": {
          "base_uri": "https://localhost:8080/",
          "height": 195
        },
        "outputId": "557a9e5b-d12a-4405-88bd-5671d99a350a"
      },
      "source": [
        "new_names = {\n",
        "    'GRE Score': 'gre',\n",
        "    'TOEFL': 'toefl',\n",
        "    'University Rating': 'rating',\n",
        "    'SOP': 'sop',\n",
        "    'LOR': 'lor',\n",
        "    'CGPA': 'cgpa',\n",
        "    'Research': 'research',\n",
        "    'Chance of Admit': 'chance'\n",
        "}\n",
        "df.rename(columns=new_names, inplace=True)\n",
        "df.head()"
      ],
      "execution_count": 10,
      "outputs": [
        {
          "output_type": "execute_result",
          "data": {
            "text/html": [
              "<div>\n",
              "<style scoped>\n",
              "    .dataframe tbody tr th:only-of-type {\n",
              "        vertical-align: middle;\n",
              "    }\n",
              "\n",
              "    .dataframe tbody tr th {\n",
              "        vertical-align: top;\n",
              "    }\n",
              "\n",
              "    .dataframe thead th {\n",
              "        text-align: right;\n",
              "    }\n",
              "</style>\n",
              "<table border=\"1\" class=\"dataframe\">\n",
              "  <thead>\n",
              "    <tr style=\"text-align: right;\">\n",
              "      <th></th>\n",
              "      <th>gre</th>\n",
              "      <th>TOEFL Score</th>\n",
              "      <th>rating</th>\n",
              "      <th>sop</th>\n",
              "      <th>lor</th>\n",
              "      <th>cgpa</th>\n",
              "      <th>research</th>\n",
              "      <th>Chance of Admit</th>\n",
              "    </tr>\n",
              "  </thead>\n",
              "  <tbody>\n",
              "    <tr>\n",
              "      <th>0</th>\n",
              "      <td>337</td>\n",
              "      <td>118</td>\n",
              "      <td>4</td>\n",
              "      <td>4.5</td>\n",
              "      <td>4.5</td>\n",
              "      <td>9.65</td>\n",
              "      <td>1</td>\n",
              "      <td>0.92</td>\n",
              "    </tr>\n",
              "    <tr>\n",
              "      <th>1</th>\n",
              "      <td>324</td>\n",
              "      <td>107</td>\n",
              "      <td>4</td>\n",
              "      <td>4.0</td>\n",
              "      <td>4.5</td>\n",
              "      <td>8.87</td>\n",
              "      <td>1</td>\n",
              "      <td>0.76</td>\n",
              "    </tr>\n",
              "    <tr>\n",
              "      <th>2</th>\n",
              "      <td>316</td>\n",
              "      <td>104</td>\n",
              "      <td>3</td>\n",
              "      <td>3.0</td>\n",
              "      <td>3.5</td>\n",
              "      <td>8.00</td>\n",
              "      <td>1</td>\n",
              "      <td>0.72</td>\n",
              "    </tr>\n",
              "    <tr>\n",
              "      <th>3</th>\n",
              "      <td>322</td>\n",
              "      <td>110</td>\n",
              "      <td>3</td>\n",
              "      <td>3.5</td>\n",
              "      <td>2.5</td>\n",
              "      <td>8.67</td>\n",
              "      <td>1</td>\n",
              "      <td>0.80</td>\n",
              "    </tr>\n",
              "    <tr>\n",
              "      <th>4</th>\n",
              "      <td>314</td>\n",
              "      <td>103</td>\n",
              "      <td>2</td>\n",
              "      <td>2.0</td>\n",
              "      <td>3.0</td>\n",
              "      <td>8.21</td>\n",
              "      <td>0</td>\n",
              "      <td>0.65</td>\n",
              "    </tr>\n",
              "  </tbody>\n",
              "</table>\n",
              "</div>"
            ],
            "text/plain": [
              "   gre  TOEFL Score  rating  sop  lor  cgpa  research  Chance of Admit \n",
              "0  337          118       4  4.5  4.5  9.65         1              0.92\n",
              "1  324          107       4  4.0  4.5  8.87         1              0.76\n",
              "2  316          104       3  3.0  3.5  8.00         1              0.72\n",
              "3  322          110       3  3.5  2.5  8.67         1              0.80\n",
              "4  314          103       2  2.0  3.0  8.21         0              0.65"
            ]
          },
          "metadata": {
            "tags": []
          },
          "execution_count": 10
        }
      ]
    },
    {
      "cell_type": "code",
      "metadata": {
        "id": "nR26vCJtHPSY",
        "colab_type": "code",
        "colab": {
          "base_uri": "https://localhost:8080/",
          "height": 179
        },
        "outputId": "a174ccbc-6347-40f5-90f9-aac78c1be653"
      },
      "source": [
        "df = df.rename(columns=new_names, inplace=True)\n",
        "df.head()"
      ],
      "execution_count": 11,
      "outputs": [
        {
          "output_type": "error",
          "ename": "AttributeError",
          "evalue": "ignored",
          "traceback": [
            "\u001b[0;31m---------------------------------------------------------------------------\u001b[0m",
            "\u001b[0;31mAttributeError\u001b[0m                            Traceback (most recent call last)",
            "\u001b[0;32m<ipython-input-11-4011e26ff1b9>\u001b[0m in \u001b[0;36m<module>\u001b[0;34m()\u001b[0m\n\u001b[1;32m      1\u001b[0m \u001b[0mdf\u001b[0m \u001b[0;34m=\u001b[0m \u001b[0mdf\u001b[0m\u001b[0;34m.\u001b[0m\u001b[0mrename\u001b[0m\u001b[0;34m(\u001b[0m\u001b[0mcolumns\u001b[0m\u001b[0;34m=\u001b[0m\u001b[0mnew_names\u001b[0m\u001b[0;34m,\u001b[0m \u001b[0minplace\u001b[0m\u001b[0;34m=\u001b[0m\u001b[0;32mTrue\u001b[0m\u001b[0;34m)\u001b[0m\u001b[0;34m\u001b[0m\u001b[0;34m\u001b[0m\u001b[0m\n\u001b[0;32m----> 2\u001b[0;31m \u001b[0mdf\u001b[0m\u001b[0;34m.\u001b[0m\u001b[0mhead\u001b[0m\u001b[0;34m(\u001b[0m\u001b[0;34m)\u001b[0m\u001b[0;34m\u001b[0m\u001b[0;34m\u001b[0m\u001b[0m\n\u001b[0m",
            "\u001b[0;31mAttributeError\u001b[0m: 'NoneType' object has no attribute 'head'"
          ]
        }
      ]
    },
    {
      "cell_type": "code",
      "metadata": {
        "id": "lrNQFKqUHUlS",
        "colab_type": "code",
        "colab": {}
      },
      "source": [
        "df"
      ],
      "execution_count": 0,
      "outputs": []
    },
    {
      "cell_type": "code",
      "metadata": {
        "id": "tItir4nTHZ2B",
        "colab_type": "code",
        "colab": {
          "base_uri": "https://localhost:8080/",
          "height": 195
        },
        "outputId": "1d466213-2abf-4bd9-8331-640a82034889"
      },
      "source": [
        "df = pd.read_csv(file_name)\n",
        "df.head()"
      ],
      "execution_count": 13,
      "outputs": [
        {
          "output_type": "execute_result",
          "data": {
            "text/html": [
              "<div>\n",
              "<style scoped>\n",
              "    .dataframe tbody tr th:only-of-type {\n",
              "        vertical-align: middle;\n",
              "    }\n",
              "\n",
              "    .dataframe tbody tr th {\n",
              "        vertical-align: top;\n",
              "    }\n",
              "\n",
              "    .dataframe thead th {\n",
              "        text-align: right;\n",
              "    }\n",
              "</style>\n",
              "<table border=\"1\" class=\"dataframe\">\n",
              "  <thead>\n",
              "    <tr style=\"text-align: right;\">\n",
              "      <th></th>\n",
              "      <th>Serial No.</th>\n",
              "      <th>GRE Score</th>\n",
              "      <th>TOEFL Score</th>\n",
              "      <th>University Rating</th>\n",
              "      <th>SOP</th>\n",
              "      <th>LOR</th>\n",
              "      <th>CGPA</th>\n",
              "      <th>Research</th>\n",
              "      <th>Chance of Admit</th>\n",
              "    </tr>\n",
              "  </thead>\n",
              "  <tbody>\n",
              "    <tr>\n",
              "      <th>0</th>\n",
              "      <td>1</td>\n",
              "      <td>337</td>\n",
              "      <td>118</td>\n",
              "      <td>4</td>\n",
              "      <td>4.5</td>\n",
              "      <td>4.5</td>\n",
              "      <td>9.65</td>\n",
              "      <td>1</td>\n",
              "      <td>0.92</td>\n",
              "    </tr>\n",
              "    <tr>\n",
              "      <th>1</th>\n",
              "      <td>2</td>\n",
              "      <td>324</td>\n",
              "      <td>107</td>\n",
              "      <td>4</td>\n",
              "      <td>4.0</td>\n",
              "      <td>4.5</td>\n",
              "      <td>8.87</td>\n",
              "      <td>1</td>\n",
              "      <td>0.76</td>\n",
              "    </tr>\n",
              "    <tr>\n",
              "      <th>2</th>\n",
              "      <td>3</td>\n",
              "      <td>316</td>\n",
              "      <td>104</td>\n",
              "      <td>3</td>\n",
              "      <td>3.0</td>\n",
              "      <td>3.5</td>\n",
              "      <td>8.00</td>\n",
              "      <td>1</td>\n",
              "      <td>0.72</td>\n",
              "    </tr>\n",
              "    <tr>\n",
              "      <th>3</th>\n",
              "      <td>4</td>\n",
              "      <td>322</td>\n",
              "      <td>110</td>\n",
              "      <td>3</td>\n",
              "      <td>3.5</td>\n",
              "      <td>2.5</td>\n",
              "      <td>8.67</td>\n",
              "      <td>1</td>\n",
              "      <td>0.80</td>\n",
              "    </tr>\n",
              "    <tr>\n",
              "      <th>4</th>\n",
              "      <td>5</td>\n",
              "      <td>314</td>\n",
              "      <td>103</td>\n",
              "      <td>2</td>\n",
              "      <td>2.0</td>\n",
              "      <td>3.0</td>\n",
              "      <td>8.21</td>\n",
              "      <td>0</td>\n",
              "      <td>0.65</td>\n",
              "    </tr>\n",
              "  </tbody>\n",
              "</table>\n",
              "</div>"
            ],
            "text/plain": [
              "   Serial No.  GRE Score  TOEFL Score  ...  CGPA  Research  Chance of Admit \n",
              "0           1        337          118  ...  9.65         1              0.92\n",
              "1           2        324          107  ...  8.87         1              0.76\n",
              "2           3        316          104  ...  8.00         1              0.72\n",
              "3           4        322          110  ...  8.67         1              0.80\n",
              "4           5        314          103  ...  8.21         0              0.65\n",
              "\n",
              "[5 rows x 9 columns]"
            ]
          },
          "metadata": {
            "tags": []
          },
          "execution_count": 13
        }
      ]
    },
    {
      "cell_type": "code",
      "metadata": {
        "id": "BXvWnQjoHkg2",
        "colab_type": "code",
        "colab": {
          "base_uri": "https://localhost:8080/",
          "height": 195
        },
        "outputId": "fc719652-f907-48f0-b17b-ca01686bce8b"
      },
      "source": [
        "df.drop(columns=['Serial No.'], inplace=True)\n",
        "df.head()"
      ],
      "execution_count": 14,
      "outputs": [
        {
          "output_type": "execute_result",
          "data": {
            "text/html": [
              "<div>\n",
              "<style scoped>\n",
              "    .dataframe tbody tr th:only-of-type {\n",
              "        vertical-align: middle;\n",
              "    }\n",
              "\n",
              "    .dataframe tbody tr th {\n",
              "        vertical-align: top;\n",
              "    }\n",
              "\n",
              "    .dataframe thead th {\n",
              "        text-align: right;\n",
              "    }\n",
              "</style>\n",
              "<table border=\"1\" class=\"dataframe\">\n",
              "  <thead>\n",
              "    <tr style=\"text-align: right;\">\n",
              "      <th></th>\n",
              "      <th>GRE Score</th>\n",
              "      <th>TOEFL Score</th>\n",
              "      <th>University Rating</th>\n",
              "      <th>SOP</th>\n",
              "      <th>LOR</th>\n",
              "      <th>CGPA</th>\n",
              "      <th>Research</th>\n",
              "      <th>Chance of Admit</th>\n",
              "    </tr>\n",
              "  </thead>\n",
              "  <tbody>\n",
              "    <tr>\n",
              "      <th>0</th>\n",
              "      <td>337</td>\n",
              "      <td>118</td>\n",
              "      <td>4</td>\n",
              "      <td>4.5</td>\n",
              "      <td>4.5</td>\n",
              "      <td>9.65</td>\n",
              "      <td>1</td>\n",
              "      <td>0.92</td>\n",
              "    </tr>\n",
              "    <tr>\n",
              "      <th>1</th>\n",
              "      <td>324</td>\n",
              "      <td>107</td>\n",
              "      <td>4</td>\n",
              "      <td>4.0</td>\n",
              "      <td>4.5</td>\n",
              "      <td>8.87</td>\n",
              "      <td>1</td>\n",
              "      <td>0.76</td>\n",
              "    </tr>\n",
              "    <tr>\n",
              "      <th>2</th>\n",
              "      <td>316</td>\n",
              "      <td>104</td>\n",
              "      <td>3</td>\n",
              "      <td>3.0</td>\n",
              "      <td>3.5</td>\n",
              "      <td>8.00</td>\n",
              "      <td>1</td>\n",
              "      <td>0.72</td>\n",
              "    </tr>\n",
              "    <tr>\n",
              "      <th>3</th>\n",
              "      <td>322</td>\n",
              "      <td>110</td>\n",
              "      <td>3</td>\n",
              "      <td>3.5</td>\n",
              "      <td>2.5</td>\n",
              "      <td>8.67</td>\n",
              "      <td>1</td>\n",
              "      <td>0.80</td>\n",
              "    </tr>\n",
              "    <tr>\n",
              "      <th>4</th>\n",
              "      <td>314</td>\n",
              "      <td>103</td>\n",
              "      <td>2</td>\n",
              "      <td>2.0</td>\n",
              "      <td>3.0</td>\n",
              "      <td>8.21</td>\n",
              "      <td>0</td>\n",
              "      <td>0.65</td>\n",
              "    </tr>\n",
              "  </tbody>\n",
              "</table>\n",
              "</div>"
            ],
            "text/plain": [
              "   GRE Score  TOEFL Score  University Rating  ...  CGPA  Research  Chance of Admit \n",
              "0        337          118                  4  ...  9.65         1              0.92\n",
              "1        324          107                  4  ...  8.87         1              0.76\n",
              "2        316          104                  3  ...  8.00         1              0.72\n",
              "3        322          110                  3  ...  8.67         1              0.80\n",
              "4        314          103                  2  ...  8.21         0              0.65\n",
              "\n",
              "[5 rows x 8 columns]"
            ]
          },
          "metadata": {
            "tags": []
          },
          "execution_count": 14
        }
      ]
    },
    {
      "cell_type": "code",
      "metadata": {
        "id": "hjILr1qlHsLJ",
        "colab_type": "code",
        "colab": {
          "base_uri": "https://localhost:8080/",
          "height": 195
        },
        "outputId": "e3b21907-aad6-43ff-9291-1f2450d1dc20"
      },
      "source": [
        "df.rename(columns=new_names, inplace=True)\n",
        "df.head()"
      ],
      "execution_count": 15,
      "outputs": [
        {
          "output_type": "execute_result",
          "data": {
            "text/html": [
              "<div>\n",
              "<style scoped>\n",
              "    .dataframe tbody tr th:only-of-type {\n",
              "        vertical-align: middle;\n",
              "    }\n",
              "\n",
              "    .dataframe tbody tr th {\n",
              "        vertical-align: top;\n",
              "    }\n",
              "\n",
              "    .dataframe thead th {\n",
              "        text-align: right;\n",
              "    }\n",
              "</style>\n",
              "<table border=\"1\" class=\"dataframe\">\n",
              "  <thead>\n",
              "    <tr style=\"text-align: right;\">\n",
              "      <th></th>\n",
              "      <th>gre</th>\n",
              "      <th>TOEFL Score</th>\n",
              "      <th>rating</th>\n",
              "      <th>sop</th>\n",
              "      <th>lor</th>\n",
              "      <th>cgpa</th>\n",
              "      <th>research</th>\n",
              "      <th>Chance of Admit</th>\n",
              "    </tr>\n",
              "  </thead>\n",
              "  <tbody>\n",
              "    <tr>\n",
              "      <th>0</th>\n",
              "      <td>337</td>\n",
              "      <td>118</td>\n",
              "      <td>4</td>\n",
              "      <td>4.5</td>\n",
              "      <td>4.5</td>\n",
              "      <td>9.65</td>\n",
              "      <td>1</td>\n",
              "      <td>0.92</td>\n",
              "    </tr>\n",
              "    <tr>\n",
              "      <th>1</th>\n",
              "      <td>324</td>\n",
              "      <td>107</td>\n",
              "      <td>4</td>\n",
              "      <td>4.0</td>\n",
              "      <td>4.5</td>\n",
              "      <td>8.87</td>\n",
              "      <td>1</td>\n",
              "      <td>0.76</td>\n",
              "    </tr>\n",
              "    <tr>\n",
              "      <th>2</th>\n",
              "      <td>316</td>\n",
              "      <td>104</td>\n",
              "      <td>3</td>\n",
              "      <td>3.0</td>\n",
              "      <td>3.5</td>\n",
              "      <td>8.00</td>\n",
              "      <td>1</td>\n",
              "      <td>0.72</td>\n",
              "    </tr>\n",
              "    <tr>\n",
              "      <th>3</th>\n",
              "      <td>322</td>\n",
              "      <td>110</td>\n",
              "      <td>3</td>\n",
              "      <td>3.5</td>\n",
              "      <td>2.5</td>\n",
              "      <td>8.67</td>\n",
              "      <td>1</td>\n",
              "      <td>0.80</td>\n",
              "    </tr>\n",
              "    <tr>\n",
              "      <th>4</th>\n",
              "      <td>314</td>\n",
              "      <td>103</td>\n",
              "      <td>2</td>\n",
              "      <td>2.0</td>\n",
              "      <td>3.0</td>\n",
              "      <td>8.21</td>\n",
              "      <td>0</td>\n",
              "      <td>0.65</td>\n",
              "    </tr>\n",
              "  </tbody>\n",
              "</table>\n",
              "</div>"
            ],
            "text/plain": [
              "   gre  TOEFL Score  rating  sop  lor  cgpa  research  Chance of Admit \n",
              "0  337          118       4  4.5  4.5  9.65         1              0.92\n",
              "1  324          107       4  4.0  4.5  8.87         1              0.76\n",
              "2  316          104       3  3.0  3.5  8.00         1              0.72\n",
              "3  322          110       3  3.5  2.5  8.67         1              0.80\n",
              "4  314          103       2  2.0  3.0  8.21         0              0.65"
            ]
          },
          "metadata": {
            "tags": []
          },
          "execution_count": 15
        }
      ]
    },
    {
      "cell_type": "code",
      "metadata": {
        "id": "d2YfBOywH9g2",
        "colab_type": "code",
        "colab": {
          "base_uri": "https://localhost:8080/",
          "height": 67
        },
        "outputId": "5f30eac7-a053-4bc5-bbd2-20a1b682b80f"
      },
      "source": [
        "df.columns"
      ],
      "execution_count": 16,
      "outputs": [
        {
          "output_type": "execute_result",
          "data": {
            "text/plain": [
              "Index(['gre', 'TOEFL Score', 'rating', 'sop', 'lor', 'cgpa', 'research',\n",
              "       'Chance of Admit '],\n",
              "      dtype='object')"
            ]
          },
          "metadata": {
            "tags": []
          },
          "execution_count": 16
        }
      ]
    },
    {
      "cell_type": "code",
      "metadata": {
        "id": "EO_B5IOpIBMa",
        "colab_type": "code",
        "colab": {
          "base_uri": "https://localhost:8080/",
          "height": 34
        },
        "outputId": "95bf5e32-e586-4e81-f3e5-9dbf35a933a3"
      },
      "source": [
        "df.columns[-1]"
      ],
      "execution_count": 17,
      "outputs": [
        {
          "output_type": "execute_result",
          "data": {
            "text/plain": [
              "'Chance of Admit '"
            ]
          },
          "metadata": {
            "tags": []
          },
          "execution_count": 17
        }
      ]
    },
    {
      "cell_type": "code",
      "metadata": {
        "id": "bqmfWlX4IFME",
        "colab_type": "code",
        "colab": {
          "base_uri": "https://localhost:8080/",
          "height": 195
        },
        "outputId": "8d9efcfc-9b29-4746-b7bf-c312a2d70729"
      },
      "source": [
        "new_name = {df.columns[-1]: 'chance'}\n",
        "df.rename(columns=new_name, inplace=True)\n",
        "df.head()"
      ],
      "execution_count": 18,
      "outputs": [
        {
          "output_type": "execute_result",
          "data": {
            "text/html": [
              "<div>\n",
              "<style scoped>\n",
              "    .dataframe tbody tr th:only-of-type {\n",
              "        vertical-align: middle;\n",
              "    }\n",
              "\n",
              "    .dataframe tbody tr th {\n",
              "        vertical-align: top;\n",
              "    }\n",
              "\n",
              "    .dataframe thead th {\n",
              "        text-align: right;\n",
              "    }\n",
              "</style>\n",
              "<table border=\"1\" class=\"dataframe\">\n",
              "  <thead>\n",
              "    <tr style=\"text-align: right;\">\n",
              "      <th></th>\n",
              "      <th>gre</th>\n",
              "      <th>TOEFL Score</th>\n",
              "      <th>rating</th>\n",
              "      <th>sop</th>\n",
              "      <th>lor</th>\n",
              "      <th>cgpa</th>\n",
              "      <th>research</th>\n",
              "      <th>chance</th>\n",
              "    </tr>\n",
              "  </thead>\n",
              "  <tbody>\n",
              "    <tr>\n",
              "      <th>0</th>\n",
              "      <td>337</td>\n",
              "      <td>118</td>\n",
              "      <td>4</td>\n",
              "      <td>4.5</td>\n",
              "      <td>4.5</td>\n",
              "      <td>9.65</td>\n",
              "      <td>1</td>\n",
              "      <td>0.92</td>\n",
              "    </tr>\n",
              "    <tr>\n",
              "      <th>1</th>\n",
              "      <td>324</td>\n",
              "      <td>107</td>\n",
              "      <td>4</td>\n",
              "      <td>4.0</td>\n",
              "      <td>4.5</td>\n",
              "      <td>8.87</td>\n",
              "      <td>1</td>\n",
              "      <td>0.76</td>\n",
              "    </tr>\n",
              "    <tr>\n",
              "      <th>2</th>\n",
              "      <td>316</td>\n",
              "      <td>104</td>\n",
              "      <td>3</td>\n",
              "      <td>3.0</td>\n",
              "      <td>3.5</td>\n",
              "      <td>8.00</td>\n",
              "      <td>1</td>\n",
              "      <td>0.72</td>\n",
              "    </tr>\n",
              "    <tr>\n",
              "      <th>3</th>\n",
              "      <td>322</td>\n",
              "      <td>110</td>\n",
              "      <td>3</td>\n",
              "      <td>3.5</td>\n",
              "      <td>2.5</td>\n",
              "      <td>8.67</td>\n",
              "      <td>1</td>\n",
              "      <td>0.80</td>\n",
              "    </tr>\n",
              "    <tr>\n",
              "      <th>4</th>\n",
              "      <td>314</td>\n",
              "      <td>103</td>\n",
              "      <td>2</td>\n",
              "      <td>2.0</td>\n",
              "      <td>3.0</td>\n",
              "      <td>8.21</td>\n",
              "      <td>0</td>\n",
              "      <td>0.65</td>\n",
              "    </tr>\n",
              "  </tbody>\n",
              "</table>\n",
              "</div>"
            ],
            "text/plain": [
              "   gre  TOEFL Score  rating  sop  lor  cgpa  research  chance\n",
              "0  337          118       4  4.5  4.5  9.65         1    0.92\n",
              "1  324          107       4  4.0  4.5  8.87         1    0.76\n",
              "2  316          104       3  3.0  3.5  8.00         1    0.72\n",
              "3  322          110       3  3.5  2.5  8.67         1    0.80\n",
              "4  314          103       2  2.0  3.0  8.21         0    0.65"
            ]
          },
          "metadata": {
            "tags": []
          },
          "execution_count": 18
        }
      ]
    },
    {
      "cell_type": "code",
      "metadata": {
        "id": "C-qvABUfISaX",
        "colab_type": "code",
        "colab": {}
      },
      "source": [
        ""
      ],
      "execution_count": 0,
      "outputs": []
    }
  ]
}